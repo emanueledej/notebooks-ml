{
  "nbformat": 4,
  "nbformat_minor": 0,
  "metadata": {
    "colab": {
      "name": "ADAPBOT.ipynb",
      "version": "0.3.2",
      "provenance": [],
      "collapsed_sections": [],
      "include_colab_link": true
    }
  },
  "cells": [
    {
      "cell_type": "markdown",
      "metadata": {
        "id": "view-in-github",
        "colab_type": "text"
      },
      "source": [
        "[View in Colaboratory](https://colab.research.google.com/github/emanueledej/notebooks-ml/blob/master/ADAPBOT.ipynb)"
      ]
    },
    {
      "metadata": {
        "id": "8mPb4OrP2YZD",
        "colab_type": "text"
      },
      "cell_type": "markdown",
      "source": [
        ""
      ]
    },
    {
      "metadata": {
        "id": "0g75QiXN2aVJ",
        "colab_type": "text"
      },
      "cell_type": "markdown",
      "source": [
        "Adapcon Bot\n",
        "Objetivo: criar um bot que aprenda com as conversas do slack e com o blog da Adapcon.\n",
        "Ferramentas: Tensorflow, python, slack.\n",
        "Abordagem: Seq2Seq.\n",
        "Artigos de referência: \n",
        "https://storage.googleapis.com/pub-tools-public-publication-data/pdf/43155.pdf\n",
        ".\n",
        ".\n",
        ".\n",
        "  "
      ]
    },
    {
      "metadata": {
        "id": "G_ygKpAR24A9",
        "colab_type": "text"
      },
      "cell_type": "markdown",
      "source": [
        "Fundamentação teórica: \n",
        "\n",
        "Sequence to Sequence Learning w/ Neural Networks:\n",
        "  The article begins saying that DNNs cannot be used to map seq2seq.** My first question: Why?**\n",
        "  \n",
        "\n",
        "\n",
        "\n",
        " Basis:\n",
        "  DNN (Deep Neural Networks) Models:\n",
        "  Long-Short Term Memory: \n",
        "              \n",
        "              \n",
        "       "
      ]
    }
  ]
}